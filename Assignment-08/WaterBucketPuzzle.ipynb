{
  "nbformat": 4,
  "nbformat_minor": 0,
  "metadata": {
    "colab": {
      "provenance": []
    },
    "kernelspec": {
      "name": "python3",
      "display_name": "Python 3"
    },
    "language_info": {
      "name": "python"
    }
  },
  "cells": [
    {
      "cell_type": "code",
      "execution_count": null,
      "metadata": {
        "id": "J7llhMbRdtu6"
      },
      "outputs": [],
      "source": []
    },
    {
      "cell_type": "markdown",
      "source": [
        "Here’s a basic implementation of the Water Bucket Puzzle in Python:"
      ],
      "metadata": {
        "id": "4AvyAROSd4EH"
      }
    },
    {
      "cell_type": "code",
      "source": [
        "class WaterBucketPuzzle:\n",
        "    def __init__(self):\n",
        "        self.buckets = {\n",
        "            '8L': 0,\n",
        "            '5L': 0,\n",
        "            '3L': 0\n",
        "        }\n",
        "        self.max_capacity = {\n",
        "            '8L': 8,\n",
        "            '5L': 5,\n",
        "            '3L': 3\n",
        "        }\n",
        "\n",
        "    def display(self):\n",
        "        print(\"\\nCurrent Bucket States:\")\n",
        "        for key in self.buckets:\n",
        "            print(f\"{key}: {'|' + 'W' * self.buckets[key] + ' ' * (self.max_capacity[key] - self.buckets[key]) + '|'}\")\n",
        "        print(\"+\" + \"-\" * (self.max_capacity['8L'] + 2) + \"+\")\n",
        "        print(\" 8L   5L   3L\")\n",
        "\n",
        "    def fill(self, bucket):\n",
        "        self.buckets[bucket] = self.max_capacity[bucket]\n",
        "\n",
        "    def empty(self, bucket):\n",
        "        self.buckets[bucket] = 0\n",
        "\n",
        "    def pour(self, from_bucket, to_bucket):\n",
        "        pour_amount = min(self.buckets[from_bucket], self.max_capacity[to_bucket] - self.buckets[to_bucket])\n",
        "        self.buckets[from_bucket] -= pour_amount\n",
        "        self.buckets[to_bucket] += pour_amount\n",
        "\n",
        "    def check_solution(self):\n",
        "        return any(amount == 4 for amount in self.buckets.values())\n",
        "\n",
        "    def run(self):\n",
        "        print(\"Water Bucket Puzzle\")\n",
        "        while True:\n",
        "            self.display()\n",
        "            if self.check_solution():\n",
        "                print(\"Congratulations! You have achieved exactly 4 liters in one of the buckets!\")\n",
        "                break\n",
        "            print(\"\\nActions: (F)ill, (E)mpty, (P)our, (Q)uit\")\n",
        "            action = input(\"Choose an action: \").strip().upper()\n",
        "            if action == 'Q':\n",
        "                print(\"Exiting the puzzle.\")\n",
        "                break\n",
        "\n",
        "            bucket = input(\"Select a bucket (8, 5, 3): \").strip().upper()\n",
        "            if bucket == '8':\n",
        "                bucket = '8L'\n",
        "            elif bucket == '5':\n",
        "                bucket = '5L'\n",
        "            elif bucket == '3':\n",
        "                bucket = '3L'\n",
        "            else:\n",
        "                print(\"Invalid bucket selection.\")\n",
        "                continue\n",
        "\n",
        "            if action == 'F':\n",
        "                self.fill(bucket)\n",
        "            elif action == 'E':\n",
        "                self.empty(bucket)\n",
        "            elif action == 'P':\n",
        "                from_bucket = input(\"Pour from (8, 5, 3): \").strip().upper()\n",
        "                to_bucket = bucket  # the selected bucket to pour into\n",
        "                from_bucket = f\"{from_bucket}L\"\n",
        "                if from_bucket not in self.buckets:\n",
        "                    print(\"Invalid bucket selection.\")\n",
        "                    continue\n",
        "                self.pour(from_bucket, to_bucket)\n",
        "            else:\n",
        "                print(\"Invalid action. Please select again.\")\n",
        "\n",
        "# Run the puzzle\n",
        "water_bucket_game = WaterBucketPuzzle()\n",
        "water_bucket_game.run()\n"
      ],
      "metadata": {
        "id": "WkSIWZkjd-YZ"
      },
      "execution_count": null,
      "outputs": []
    }
  ]
}