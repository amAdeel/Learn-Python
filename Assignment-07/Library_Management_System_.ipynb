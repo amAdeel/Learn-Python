{
  "nbformat": 4,
  "nbformat_minor": 0,
  "metadata": {
    "colab": {
      "provenance": []
    },
    "kernelspec": {
      "name": "python3",
      "display_name": "Python 3"
    },
    "language_info": {
      "name": "python"
    }
  },
  "cells": [
    {
      "cell_type": "code",
      "execution_count": 1,
      "metadata": {
        "id": "O3F1hmtg-Uz8"
      },
      "outputs": [],
      "source": [
        "from typing import Optional\n",
        "\n",
        "class User:\n",
        "    def __init__(self, user_id: int, name: str, email: str):\n",
        "        self.user_id = user_id\n",
        "        self.name = name\n",
        "        self.email = email\n",
        "\n",
        "    def display_info(self):\n",
        "        print(f\"User ID: {self.user_id}, Name: {self.name}, Email: {self.email}\")\n"
      ]
    },
    {
      "cell_type": "code",
      "source": [
        "class Librarian(User):\n",
        "    def __init__(self, user_id: int, name: str, email: str):\n",
        "        super().__init__(user_id, name, email)\n",
        "\n",
        "class Member(User):\n",
        "    def __init__(self, user_id: int, name: str, email: str):\n",
        "        super().__init__(user_id, name, email)\n",
        "        self.borrowed_books = []\n",
        "\n",
        "    def borrow_book(self, book):\n",
        "        if book.availability:\n",
        "            self.borrowed_books.append(book)\n",
        "            book.availability = False\n",
        "            print(f\"{self.name} borrowed {book.title}.\")\n",
        "        else:\n",
        "            print(f\"{book.title} is not available.\")\n",
        "\n",
        "    def return_book(self, book):\n",
        "        if book in self.borrowed_books:\n",
        "            self.borrowed_books.remove(book)\n",
        "            book.availability = True\n",
        "            print(f\"{self.name} returned {book.title}.\")\n"
      ],
      "metadata": {
        "id": "3d33Jrnr_A3c"
      },
      "execution_count": 2,
      "outputs": []
    },
    {
      "cell_type": "code",
      "source": [
        "class Book:\n",
        "    def __init__(self, book_id: int, title: str, author: str, availability: bool = True):\n",
        "        self.book_id = book_id\n",
        "        self.title = title\n",
        "        self.author = author\n",
        "        self.availability = availability\n",
        "\n",
        "    def display_info(self):\n",
        "        status = \"Available\" if self.availability else \"Not Available\"\n",
        "        print(f\"ID: {self.book_id}, Title: {self.title}, Author: {self.author}, Status: {status}\")\n"
      ],
      "metadata": {
        "id": "fL-0arwK_JZQ"
      },
      "execution_count": null,
      "outputs": []
    },
    {
      "cell_type": "code",
      "source": [
        "import os\n",
        "\n",
        "class LibraryManager:\n",
        "    def __init__(self):\n",
        "        self.books = []\n",
        "        self.users = []\n",
        "        self.load_data()\n",
        "\n",
        "    def load_data(self):\n",
        "        # Load books and users from files, handle file errors\n",
        "        try:\n",
        "            with open(\"books.txt\", \"r\") as file:\n",
        "                for line in file:\n",
        "                    book_id, title, author, availability = line.strip().split(\", \")\n",
        "                    self.books.append(Book(int(book_id), title, author, availability == \"True\"))\n",
        "        except FileNotFoundError:\n",
        "            print(\"No existing books file found. Starting fresh.\")\n",
        "\n",
        "        try:\n",
        "            with open(\"users.txt\", \"r\") as file:\n",
        "                for line in file:\n",
        "                    user_id, name, email, user_type = line.strip().split(\", \")\n",
        "                    if user_type == \"Librarian\":\n",
        "                        self.users.append(Librarian(int(user_id), name, email))\n",
        "                    elif user_type == \"Member\":\n",
        "                        self.users.append(Member(int(user_id), name, email))\n",
        "        except FileNotFoundError:\n",
        "            print(\"No existing users file found. Starting fresh.\")\n",
        "\n",
        "    def save_data(self):\n",
        "        # Save books and users to files\n",
        "        with open(\"books.txt\", \"w\") as file:\n",
        "            for book in self.books:\n",
        "                file.write(f\"{book.book_id}, {book.title}, {book.author}, {book.availability}\\n\")\n",
        "\n",
        "        with open(\"users.txt\", \"w\") as file:\n",
        "            for user in self.users:\n",
        "                user_type = \"Librarian\" if isinstance(user, Librarian) else \"Member\"\n",
        "                file.write(f\"{user.user_id}, {user.name}, {user.email}, {user_type}\\n\")\n",
        "\n",
        "    def add_book(self, book: Book):\n",
        "        self.books.append(book)\n",
        "        print(f\"Added book: {book.title}\")\n",
        "        self.save_data()\n",
        "\n",
        "    def update_book(self, book_id: int, title: Optional[str] = None, author: Optional[str] = None):\n",
        "        for book in self.books:\n",
        "            if book.book_id == book_id:\n",
        "                book.title = title or book.title\n",
        "                book.author = author or book.author\n",
        "                print(f\"Updated book ID {book_id}\")\n",
        "                self.save_data()\n",
        "                return\n",
        "        print(f\"No book found with ID {book_id}\")\n",
        "\n",
        "    def delete_book(self, book_id: int):\n",
        "        self.books = [book for book in self.books if book.book_id != book_id]\n",
        "        print(f\"Deleted book ID {book_id}\")\n",
        "        self.save_data()\n"
      ],
      "metadata": {
        "id": "7dsl0HuZ_QhF"
      },
      "execution_count": null,
      "outputs": []
    }
  ]
}